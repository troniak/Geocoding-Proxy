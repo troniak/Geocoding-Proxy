{
  "nbformat": 4,
  "nbformat_minor": 0,
  "metadata": {
    "colab": {
      "name": "cavnue.ipynb",
      "provenance": [],
      "collapsed_sections": [],
      "authorship_tag": "ABX9TyMgqh5kecBEmoemgv+iFvHT",
      "include_colab_link": true
    },
    "kernelspec": {
      "name": "python3",
      "display_name": "Python 3"
    },
    "language_info": {
      "name": "python"
    }
  },
  "cells": [
    {
      "cell_type": "markdown",
      "metadata": {
        "id": "view-in-github",
        "colab_type": "text"
      },
      "source": [
        "<a href=\"https://colab.research.google.com/github/troniak/Geocoding-Proxy/blob/master/cavnue.ipynb\" target=\"_parent\"><img src=\"https://colab.research.google.com/assets/colab-badge.svg\" alt=\"Open In Colab\"/></a>"
      ]
    },
    {
      "cell_type": "markdown",
      "metadata": {
        "id": "9EAzxHRMCjKq"
      },
      "source": [
        "Prompt: \n",
        "We (Cavnue) are interested in deploying a set of sensors and algorithms to detect lane-level events of interest and deploy a CAV-Enabled Corridor. We want to have initial discussions with people who work in the Department of Transportation in the state, as well as bus service providers. \n",
        "\n",
        "For purposes of this exercise, we're interested in talking to the Nebraska DOT about the corridor between Lincoln, Nebraska and Omaha, Nebraska along I-80 and State Route 6 \n",
        "\n",
        "\n",
        "Goal: \n",
        "Create a monitoring system that enables the following capabilities\n",
        "\n",
        "Identifies lane level performance including\n",
        "\n",
        "Peak lane demand/congestion\n",
        "\n",
        "Minimum and maximum velocities of road-users\n",
        "\n",
        "Volume and class (car/truck/motorcyclist) of road-users per lane\n",
        "\n",
        "Observes areas of interest for safety-related events\n",
        "\n",
        "Anomalous lane-to-lane behavior at splits/merges/exits/entrances\n",
        "\n",
        "Pedestrian crossing at unsignalized intersections/pedestrians on side of road/in-shoulder\n",
        "\n",
        "Identifies operational hazards\n",
        "\n",
        "Disabled vehicle in roadway\n",
        "\n",
        "Debris in roadway\n",
        "\n",
        "Wrong-way vehicle driving\n",
        "\n",
        "Task\n",
        "Describe a series of model lifecycle steps and measurements at each stage to indicate if you are on the right direction or wrong track. This includes defining initial data sets for model bootstrapping in the absence of data collected from the corridor, labeling strategies for data from the corridor, model architecture selection, data selection for both training and validation of models, and how you would conduct analysis of alternatives. If time permits, describe how you would address monitoring for model drift post-deployment, and the frequency with which you would refine and retune your model.\n",
        "\n",
        " \n",
        "\n",
        "Please submit your answers as either a word document, ppt deck, or pdf with diagrams as necessary. "
      ]
    },
    {
      "cell_type": "code",
      "metadata": {
        "id": "AreRyTxGqfUu"
      },
      "source": [
        ""
      ],
      "execution_count": null,
      "outputs": []
    },
    {
      "cell_type": "code",
      "metadata": {
        "id": "05ItgjenK9po"
      },
      "source": [
        ""
      ],
      "execution_count": null,
      "outputs": []
    },
    {
      "cell_type": "markdown",
      "metadata": {
        "id": "LXH-IAdAqgaS"
      },
      "source": [
        "#Problem Definition \n",
        "Human errors remain the largest contributing factor to safety and congestion related incidents, approximately 94% of all motor‐vehicle accidents, leading to over 33,000 national annual fatalities, from 2009 through 2014. In addition, congestion related system inefficiencies wastes an annual $160B in time and fuel, and accounts for nearly 24% of the Greenhouse Gas Emissions throughout the US. [1]  \n",
        "We (Cavnue) wish to address these issues by detecting lane-level events through deploying CAV-Enabled Corridors. Such lane-level events include, but are not limited to, peak lane demand/congestion, minimum and maximum velocities of road-users, volume and class of road-users per lane, anomalous lane-to-lane behavior, as well as the identification of hazards such as pedestrians, debris or wrong-way driving vehicle in the roadway/shoulder."
      ]
    },
    {
      "cell_type": "code",
      "metadata": {
        "id": "vwygQZNoChHc"
      },
      "source": [
        ""
      ],
      "execution_count": null,
      "outputs": []
    },
    {
      "cell_type": "markdown",
      "metadata": {
        "id": "sfm1Jjxlvo6W"
      },
      "source": [
        "#Approach  \n",
        "Lane-level event detection shall be supported by a series of computer vision and machine learning based technologies developed by us, including object detection, localization and tracking of objects of interest in video feeds monitoring these corridors. At this stage, we work closely with the customer and the current state of the art to ensure a proper solution gets deployed that meets the customer's satisfaction.  \n",
        "![Optical Flow](https://nanonets.com/blog/content/images/2019/04/of-2.gif \"Optical Flow\")"
      ]
    },
    {
      "cell_type": "markdown",
      "metadata": {
        "id": "Bgduk3f7v4lC"
      },
      "source": [
        "#Goals and Milestones\n",
        "Gantt chart?  \n",
        "Metrics: does it fit the greater timeline, analysis of each of the pieces in more detail, is it feasible"
      ]
    },
    {
      "cell_type": "markdown",
      "metadata": {
        "id": "BC-2kT1ewOwz"
      },
      "source": [
        "\n",
        "#Data Gathering    \n",
        "The power of a machine learning (ML) system comes from the quality of its data. Any customer sponsored data that can be made available could be useful in initial iterations of the ML model. Useful data includes measurements of interest collected, such as through manual labeling, pilot vehicles, etc. secondary measurements, such as meterological data, as well as source data from which those measurements can be reproduced, such as video feeds.  \n",
        "If customer data is supplied, we must take time to understand what each of the fields represent and what the data types are so that the information can be parsed and used as input to the ML model."
      ]
    },
    {
      "cell_type": "code",
      "metadata": {
        "colab": {
          "base_uri": "https://localhost:8080/",
          "height": 0
        },
        "id": "LqpSnMDBGCtz",
        "outputId": "71aee12c-57aa-440c-a65e-e54eac995b88"
      },
      "source": [
        "sr6_data = {'Start Time': ('5:30','5:30'), 'avg': ('50','50'), 'PC':('10','10'), 'Foo': ('Bar','Bar'), 'Video Feed': ('corridor.mp4','corridor.mp4')}\n",
        "i80_data = {'Start Time': ('6:40','','6:42'), 'Average Speed': ('70','999','72'), 'Peak Congestion':('30','NaN','32'), 'Cam Feed': ('640.mpg','corrupt.zzz','642.mpg')}\n",
        "\n",
        "def show_data(data):\n",
        "  assert(len(data)>0)\n",
        "  print(id(data),':')\n",
        "  for entry in data:\n",
        "    print(f\"{entry:16}\",end=\"|\")\n",
        "  print()\n",
        "  row = 0\n",
        "  done = False\n",
        "  while(not done):\n",
        "    for column in data:\n",
        "      if(row >= len(data[column])): done=True; break\n",
        "      print(f\"{str(data[column][row]):16}\",end='|')\n",
        "    print()\n",
        "    row+=1\n",
        "  print('\\n\\n')\n",
        "\n",
        "all_data = [sr6_data,i80_data]\n",
        "for data in all_data:\n",
        "  show_data(data)"
      ],
      "execution_count": 12,
      "outputs": [
        {
          "output_type": "stream",
          "name": "stdout",
          "text": [
            "140304083182448 :\n",
            "Start Time      |avg             |PC              |Foo             |Video Feed      |\n",
            "5:30            |50              |10              |Bar             |corridor.mp4    |\n",
            "5:30            |50              |10              |Bar             |corridor.mp4    |\n",
            "\n",
            "\n",
            "\n",
            "\n",
            "140304083182208 :\n",
            "Start Time      |Average Speed   |Peak Congestion |Cam Feed        |\n",
            "6:40            |70              |30              |640.mpg         |\n",
            "                |999             |NaN             |corrupt.zzz     |\n",
            "6:42            |72              |32              |642.mpg         |\n",
            "\n",
            "\n",
            "\n",
            "\n"
          ]
        }
      ]
    },
    {
      "cell_type": "markdown",
      "metadata": {
        "id": "JrU8tObqwauZ"
      },
      "source": [
        "\n",
        "#Data Preparation  \n",
        "At this stage, we take ownership of the data we have received. We combine, format, \n",
        "Metrics: can we query for specific features"
      ]
    },
    {
      "cell_type": "code",
      "metadata": {
        "colab": {
          "base_uri": "https://localhost:8080/",
          "height": 0
        },
        "id": "dszTf7mJicEw",
        "outputId": "e727ebf7-268c-45a3-d6a2-af80dc014744"
      },
      "source": [
        "from datetime import datetime\n",
        "\n",
        "# Formatting rules for columns\n",
        "format_rules = {\\\n",
        "'Average Speed' : (lambda s: float(s)),\n",
        "'Start Time' : (lambda s: datetime.strptime(s, '%H:%M').time())}\n",
        "join_rules = {'Foo':['Foo'],'Start Time':['Start Time'],'Average Speed':['Average Speed','avg'],'Video Feed':['Video Feed','Cam Feed'],'Peak Congestion':['PC','Peak Congestion']}\n",
        "def parse_entry(entry,column):\n",
        "  '''parse entries using set of predefined rules based on column type'''\n",
        "  try: \n",
        "    return format_rules[column](entry) if column in format_rules else entry\n",
        "  except ValueError as ve: \n",
        "    return 'INVALID'\n",
        "\n",
        "def parse_column(data,column):\n",
        "  '''parse a column of data to a list of valid python datatypes if possible'''\n",
        "  data[column] = [parse_entry(s,column) for s in data[column]]\n",
        "\n",
        "def format_data(data):\n",
        "  '''format each column of a table of data'''\n",
        "  for column in data: parse_column(data,column)\n",
        "def prepare_data(all_data, label_map):\n",
        "  prepared_data = dict()\n",
        "  column_height = 0\n",
        "  for data in all_data:\n",
        "    for label in label_map:\n",
        "      for duplicate in label_map[label]:\n",
        "        if duplicate in data:\n",
        "          prepared_data[label] = (prepared_data[label] if label in prepared_data else ()) + data[duplicate]\n",
        "      column_height = max(column_height,len(prepared_data[label]))\n",
        "    for label in label_map:\n",
        "      prepared_data[label] += tuple(['']*(column_height-len(prepared_data[label])))\n",
        "    \n",
        "    #Add the subset_id entry to the table, a unique identifier for the dataset it came from\n",
        "    prepared_data['subset_id'] = (prepared_data['subset_id'] if 'subset_id' in prepared_data else ()) + tuple([f'{id(data)}']*(column_height-(len(prepared_data['subset_id']) if 'subset_id' in prepared_data else 0)))\n",
        "\n",
        "  return prepared_data\n",
        "prepared_data = prepare_data(all_data,join_rules)\n",
        "format_data(prepared_data)\n",
        "show_data(prepared_data)\n",
        "print('Average Speeds: ', prepared_data['Average Speed'])"
      ],
      "execution_count": 13,
      "outputs": [
        {
          "output_type": "stream",
          "name": "stdout",
          "text": [
            "140304083430208 :\n",
            "Foo             |Start Time      |Average Speed   |Video Feed      |Peak Congestion |subset_id       |\n",
            "Bar             |05:30:00        |50.0            |corridor.mp4    |10              |140304083182448 |\n",
            "Bar             |05:30:00        |50.0            |corridor.mp4    |10              |140304083182448 |\n",
            "                |06:40:00        |70.0            |640.mpg         |30              |140304083182208 |\n",
            "                |INVALID         |999.0           |corrupt.zzz     |NaN             |140304083182208 |\n",
            "                |06:42:00        |72.0            |642.mpg         |32              |140304083182208 |\n",
            "\n",
            "\n",
            "\n",
            "\n",
            "Average Speeds:  [50.0, 50.0, 70.0, 999.0, 72.0]\n"
          ]
        }
      ]
    },
    {
      "cell_type": "markdown",
      "metadata": {
        "id": "lVaOid6Ew4jG"
      },
      "source": [
        "#Data Cleaning  \n",
        "scrub for duplicates (remove), validity (remove/correct), missing (interpolate), outliers (remove/mark)  \n",
        "Metrics: no erroneous entries  "
      ]
    },
    {
      "cell_type": "code",
      "metadata": {
        "colab": {
          "base_uri": "https://localhost:8080/",
          "height": 131
        },
        "id": "0WuUBQHMmNBT",
        "outputId": "6f669309-10f1-4a8c-94e9-6b716be16d2a"
      },
      "source": [
        "\n",
        "import scipy\n",
        "import pandas\n",
        "\n",
        "def clean_data(data):\n",
        "  for column in data:\n",
        "    #print(data)\n",
        "    #parse_column(data,column)\n",
        "    #print(data)\n",
        "    #for i in range(len(data[column])):\n",
        "    #  print(data[column][i])\n",
        "  return data\n",
        "\n",
        "cleaned_data = clean_data(prepared_data.copy())\n",
        "show_data(cleaned_data)"
      ],
      "execution_count": 15,
      "outputs": [
        {
          "output_type": "error",
          "ename": "IndentationError",
          "evalue": "ignored",
          "traceback": [
            "\u001b[0;36m  File \u001b[0;32m\"<ipython-input-15-fc3a17c4c674>\"\u001b[0;36m, line \u001b[0;32m12\u001b[0m\n\u001b[0;31m    return data\u001b[0m\n\u001b[0m         ^\u001b[0m\n\u001b[0;31mIndentationError\u001b[0m\u001b[0;31m:\u001b[0m expected an indented block\n"
          ]
        }
      ]
    },
    {
      "cell_type": "markdown",
      "metadata": {
        "id": "A6hFqTVKzUyy"
      },
      "source": [
        "#Data Analysis  \n",
        "Frequency distrubution, histogram, bi/multi-feature, insights  \n",
        "Metrics: can we gather macro statistics, do they make sense"
      ]
    },
    {
      "cell_type": "markdown",
      "metadata": {
        "id": "__ZSqnka1WSA"
      },
      "source": [
        "\n",
        "#Feature Engineering  \n",
        "Which features are important (correlation, IG, random forest), deriving new features, affect the target variable  \n",
        "Metrics: which features are best at solving the current problem"
      ]
    },
    {
      "cell_type": "markdown",
      "metadata": {
        "id": "bng1ungK2JtD"
      },
      "source": [
        "#Data Verification  \n",
        "Make sure the data fits the requirements for the model"
      ]
    },
    {
      "cell_type": "markdown",
      "metadata": {
        "id": "BV3NTnt2288V"
      },
      "source": [
        "#Data Sequestering \n",
        "80 train, 20 test"
      ]
    },
    {
      "cell_type": "markdown",
      "metadata": {
        "id": "yRRh2SaC37dr"
      },
      "source": [
        "#Model Building  \n",
        "Decision trees, random forest, naive bayes, etc."
      ]
    },
    {
      "cell_type": "markdown",
      "metadata": {
        "id": "EGcZ2HWc4Yjy"
      },
      "source": [
        "#Model Evaluation  \n",
        "testing, tuning, cross-validation, bias-variance,precision-recall, under/overfitting"
      ]
    },
    {
      "cell_type": "markdown",
      "metadata": {
        "id": "rKf34h5Z5Xv2"
      },
      "source": [
        "#Model Deployment  \n",
        "scaling, deployment, business consumption, a/b testing, kpi, measure & monitor, feedback loop"
      ]
    },
    {
      "cell_type": "code",
      "metadata": {
        "colab": {
          "base_uri": "https://localhost:8080/",
          "height": 287
        },
        "id": "P5dCQhPIxTbT",
        "outputId": "05f928fa-66bf-4786-ff20-5c45e68701ff"
      },
      "source": [
        "import base64\n",
        "import requests, io\n",
        "from PIL import Image\n",
        "import matplotlib.pyplot as plt\n",
        "\n",
        "graph = \"\"\"\n",
        "graph LR;\n",
        "    A--> B & C & D;\n",
        "    B--> A & E;\n",
        "    C--> A & E;\n",
        "    D--> A & E;\n",
        "    E--> B & C & D;\n",
        "\"\"\"\n",
        "\n",
        "graphbytes = graph.encode(\"ascii\")\n",
        "base64_bytes = base64.b64encode(graphbytes)\n",
        "base64_string = base64_bytes.decode(\"ascii\")\n",
        "img = Image.open(io.BytesIO(requests.get('https://mermaid.ink/img/' + base64_string).content))\n",
        "plt.imshow(img)\n"
      ],
      "execution_count": null,
      "outputs": [
        {
          "output_type": "execute_result",
          "data": {
            "text/plain": [
              "<matplotlib.image.AxesImage at 0x7fc009549a90>"
            ]
          },
          "metadata": {},
          "execution_count": 7
        },
        {
          "output_type": "display_data",
          "data": {
            "image/png": "[encoded data removed]",
            "text/plain": [
              "<Figure size 432x288 with 1 Axes>"
            ]
          },
          "metadata": {
            "needs_background": "light"
          }
        }
      ]
    }
  ]
}